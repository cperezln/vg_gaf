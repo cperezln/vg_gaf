{
 "cells": [
  {
   "cell_type": "code",
   "execution_count": 1,
   "metadata": {},
   "outputs": [
    {
     "ename": "ImportError",
     "evalue": "cannot import name 'GAF' from 'gaf.gaf' (/workspaces/GAF/src/gaf/gaf.py)",
     "output_type": "error",
     "traceback": [
      "\u001b[0;31m---------------------------------------------------------------------------\u001b[0m",
      "\u001b[0;31mImportError\u001b[0m                               Traceback (most recent call last)",
      "Cell \u001b[0;32mIn[1], line 4\u001b[0m\n\u001b[1;32m      2\u001b[0m \u001b[38;5;28;01mimport\u001b[39;00m \u001b[38;5;21;01mmatplotlib\u001b[39;00m\u001b[38;5;21;01m.\u001b[39;00m\u001b[38;5;21;01mpyplot\u001b[39;00m \u001b[38;5;28;01mas\u001b[39;00m \u001b[38;5;21;01mplt\u001b[39;00m\n\u001b[1;32m      3\u001b[0m \u001b[38;5;28;01mimport\u001b[39;00m \u001b[38;5;21;01mnetworkx\u001b[39;00m \u001b[38;5;28;01mas\u001b[39;00m \u001b[38;5;21;01mnx\u001b[39;00m\n\u001b[0;32m----> 4\u001b[0m \u001b[38;5;28;01mfrom\u001b[39;00m \u001b[38;5;21;01mgaf\u001b[39;00m\u001b[38;5;21;01m.\u001b[39;00m\u001b[38;5;21;01mgaf\u001b[39;00m \u001b[38;5;28;01mimport\u001b[39;00m GAF\n\u001b[1;32m      5\u001b[0m \u001b[38;5;28;01mfrom\u001b[39;00m \u001b[38;5;21;01mts2vg\u001b[39;00m \u001b[38;5;28;01mimport\u001b[39;00m NaturalVG, HorizontalVG\n\u001b[1;32m      6\u001b[0m \u001b[38;5;28;01mfrom\u001b[39;00m \u001b[38;5;21;01mutils\u001b[39;00m\u001b[38;5;21;01m.\u001b[39;00m\u001b[38;5;21;01mdraw\u001b[39;00m \u001b[38;5;28;01mimport\u001b[39;00m draw_side_by_side\n",
      "\u001b[0;31mImportError\u001b[0m: cannot import name 'GAF' from 'gaf.gaf' (/workspaces/GAF/src/gaf/gaf.py)"
     ]
    }
   ],
   "source": [
    "import numpy as np\n",
    "import matplotlib.pyplot as plt\n",
    "import networkx as nx\n",
    "from gaf.gaf import GAF\n",
    "from ts2vg import NaturalVG, HorizontalVG\n",
    "from utils.draw import draw_side_by_side"
   ]
  },
  {
   "cell_type": "code",
   "execution_count": null,
   "metadata": {},
   "outputs": [],
   "source": [
    "# xs = np.array(list(range(1, 6)) * 3)\n",
    "n = 30\n",
    "xs = np.sin(np.linspace(0, 4*np.pi, 50))\n",
    "xs = np.concatenate([xs, -np.random.random(20)])\n",
    "xs = np.concatenate([xs, 0.8*np.sin(np.linspace(0, 3*np.pi, 30))])\n",
    "xs"
   ]
  },
  {
   "cell_type": "code",
   "execution_count": null,
   "metadata": {},
   "outputs": [],
   "source": [
    "\n",
    "g = GAF(xs, threshold=0)\n",
    "gsc = g.gasf(func=np.cos)\n",
    "gdc = g.gadf(func=np.cos)\n",
    "gss = g.gasf(func=np.sin)\n",
    "gds = g.gadf(func=np.sin)"
   ]
  },
  {
   "cell_type": "code",
   "execution_count": null,
   "metadata": {},
   "outputs": [],
   "source": [
    "plt.plot(xs)"
   ]
  },
  {
   "cell_type": "code",
   "execution_count": null,
   "metadata": {},
   "outputs": [],
   "source": [
    "ts = list(range(len(xs)))\n",
    "draw_side_by_side(xs, ts, gss, gds)"
   ]
  },
  {
   "cell_type": "code",
   "execution_count": null,
   "metadata": {},
   "outputs": [],
   "source": [
    "def get_filtered(g, threshold = 0.):\n",
    "    aux = g.copy()\n",
    "    aux[aux < abs(threshold)] = 0\n",
    "    return aux"
   ]
  },
  {
   "cell_type": "code",
   "execution_count": null,
   "metadata": {},
   "outputs": [],
   "source": [
    "threshold = 0.6\n",
    "aux = gsc.copy()\n",
    "aux[aux < abs(threshold)] = 0\n",
    "auxd = gdc.copy()\n",
    "auxd[auxd < abs(threshold)] = 0\n",
    "draw_side_by_side(xs, ts, aux, auxd)"
   ]
  },
  {
   "cell_type": "code",
   "execution_count": null,
   "metadata": {},
   "outputs": [],
   "source": [
    "np.where(aux > 0.97)"
   ]
  },
  {
   "cell_type": "code",
   "execution_count": null,
   "metadata": {},
   "outputs": [],
   "source": [
    "thrs = 0.97\n",
    "xs[np.unique(np.where(auxd < thrs)[0])]\n",
    "points = np.unique(np.where(auxd < thrs)[0])\n",
    "points"
   ]
  },
  {
   "cell_type": "code",
   "execution_count": null,
   "metadata": {},
   "outputs": [],
   "source": [
    "xs[points]"
   ]
  },
  {
   "cell_type": "code",
   "execution_count": null,
   "metadata": {},
   "outputs": [],
   "source": [
    "plt.plot(xs)\n",
    "plt.scatter(points, xs[points], c=\"red\")\n",
    "plt.show()"
   ]
  },
  {
   "cell_type": "code",
   "execution_count": null,
   "metadata": {},
   "outputs": [],
   "source": [
    "normalized "
   ]
  },
  {
   "cell_type": "code",
   "execution_count": null,
   "metadata": {},
   "outputs": [],
   "source": [
    "draw_side_by_side(xs, ts, gsc, gdc)"
   ]
  },
  {
   "cell_type": "code",
   "execution_count": null,
   "metadata": {},
   "outputs": [],
   "source": [
    "xs = np.sin(np.linspace(0, 4*np.pi, 50))\n",
    "ts = list(range(len(xs)))\n",
    "g = GAF(xs, threshold=0)\n",
    "gsc = g.gasf(func=np.cos)\n",
    "gdc = g.gadf(func=np.cos)\n",
    "gss = g.gasf(func=np.sin)\n",
    "gds = g.gadf(func=np.sin)"
   ]
  },
  {
   "cell_type": "code",
   "execution_count": null,
   "metadata": {},
   "outputs": [],
   "source": [
    "draw_side_by_side(xs, ts, gss, gds)"
   ]
  },
  {
   "cell_type": "code",
   "execution_count": null,
   "metadata": {},
   "outputs": [],
   "source": [
    "draw_side_by_side(xs, ts, gsc, gdc)"
   ]
  },
  {
   "cell_type": "code",
   "execution_count": null,
   "metadata": {},
   "outputs": [],
   "source": [
    "def vgadf(m):\n",
    "    ln = len(m)\n",
    "    rm = [[0]*ln for _ in range(ln)]\n",
    "    for i in range(ln):\n",
    "        h = -2\n",
    "        for j in range(i + 1, ln):\n",
    "            if m[i][j] > 0 or m[i][j] == h:\n",
    "                rm[i][j] = 1\n",
    "                rm[j][i] = 1\n",
    "                break\n",
    "            elif m[i][j] < 0 and m[i][j] > h:\n",
    "                rm[i][j] = 1\n",
    "                rm[j][i] = 1\n",
    "                h = m[i][j]\n",
    "            elif m[i][j] == 0:\n",
    "                rm[i][j] = i + 1 == j\n",
    "                rm[j][i] = i + 1 == j\n",
    "            elif m[i][j] < 0 and m[i][j] <= h:\n",
    "                pass\n",
    "    return rm"
   ]
  },
  {
   "cell_type": "code",
   "execution_count": null,
   "metadata": {},
   "outputs": [],
   "source": [
    "def visibility_graph_1d(array):\n",
    "    \"\"\"\n",
    "    Generate a visibility graph for a 1-dimensional array.\n",
    "\n",
    "    Parameters:\n",
    "    - array (list): 1-dimensional array representing points.\n",
    "\n",
    "    Returns:\n",
    "    - list of tuples: Edges of the visibility graph.\n",
    "    \"\"\"\n",
    "    n = len(array)\n",
    "    edges = []\n",
    "\n",
    "    for i in range(n):\n",
    "        for j in range(i + 2, n):  # Start from i+2 to ensure no points in between\n",
    "            if all(array[k] > min(array[i], array[j]) and array[k] < max(array[i], array[j]) for k in range(i + 1, j)):\n",
    "                edges.append((array[i], array[j]))\n",
    "\n",
    "    return edges"
   ]
  },
  {
   "cell_type": "code",
   "execution_count": null,
   "metadata": {},
   "outputs": [],
   "source": [
    "from sklearn.preprocessing import MinMaxScaler\n",
    "scaler = MinMaxScaler(feature_range=(0,1))\n",
    "data = scaler.fit_transform(np.diag(gsc).reshape((-1,1)))\n",
    "plt.bar(np.arange(len(data)), data.reshape(-1))\n",
    "plt.show()"
   ]
  },
  {
   "cell_type": "code",
   "execution_count": null,
   "metadata": {},
   "outputs": [],
   "source": [
    "aux = np.array(vgadf(gss))\n",
    "nx.draw(nx.Graph(aux))"
   ]
  },
  {
   "cell_type": "code",
   "execution_count": null,
   "metadata": {},
   "outputs": [],
   "source": [
    "g = nx.Graph(nx.Graph(aux))\n",
    "g.degree"
   ]
  },
  {
   "cell_type": "code",
   "execution_count": null,
   "metadata": {},
   "outputs": [],
   "source": [
    "vg = HorizontalVG()\n",
    "vg.build(xs)\n",
    "vg.as_networkx().degree"
   ]
  },
  {
   "cell_type": "code",
   "execution_count": null,
   "metadata": {},
   "outputs": [],
   "source": [
    "vg = HorizontalVG()\n",
    "vg.build(xs)\n",
    "nx.draw(vg.as_networkx())"
   ]
  },
  {
   "cell_type": "code",
   "execution_count": null,
   "metadata": {},
   "outputs": [],
   "source": [
    "idx = 0\n",
    "plt.imshow(gds)\n",
    "plt.plot((xs+idx), c=\"orange\")\n",
    "plt.plot(gds[idx, gds[idx] < xs], c=\"red\")\n",
    "plt.show()"
   ]
  },
  {
   "cell_type": "code",
   "execution_count": null,
   "metadata": {},
   "outputs": [],
   "source": [
    "gds[0, gds[0] < xs]"
   ]
  },
  {
   "cell_type": "code",
   "execution_count": null,
   "metadata": {},
   "outputs": [],
   "source": [
    "np.argmax(gds)"
   ]
  },
  {
   "cell_type": "code",
   "execution_count": null,
   "metadata": {},
   "outputs": [],
   "source": [
    "gds[np.argmax(gds)]"
   ]
  },
  {
   "cell_type": "code",
   "execution_count": null,
   "metadata": {},
   "outputs": [],
   "source": [
    "vg = HorizontalVG()\n",
    "vg.build(xs)"
   ]
  },
  {
   "cell_type": "code",
   "execution_count": null,
   "metadata": {},
   "outputs": [],
   "source": [
    "gx = vg.as_networkx()"
   ]
  },
  {
   "cell_type": "code",
   "execution_count": null,
   "metadata": {},
   "outputs": [],
   "source": [
    "nx.draw(gx, with_labels=True)"
   ]
  },
  {
   "cell_type": "code",
   "execution_count": null,
   "metadata": {},
   "outputs": [],
   "source": [
    "degrees = list(nx.degree(gx))\n",
    "[(d, l) for (d, l) in degrees if d == max(degrees[:, 1])]\n"
   ]
  }
 ],
 "metadata": {
  "kernelspec": {
   "display_name": "Python 3",
   "language": "python",
   "name": "python3"
  },
  "language_info": {
   "codemirror_mode": {
    "name": "ipython",
    "version": 3
   },
   "file_extension": ".py",
   "mimetype": "text/x-python",
   "name": "python",
   "nbconvert_exporter": "python",
   "pygments_lexer": "ipython3",
   "version": "3.11.6"
  }
 },
 "nbformat": 4,
 "nbformat_minor": 2
}
