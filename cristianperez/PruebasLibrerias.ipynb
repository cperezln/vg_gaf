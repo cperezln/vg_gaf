{
 "cells": [
  {
   "cell_type": "code",
   "execution_count": 2,
   "id": "9a5c9a20-9d0d-465e-b4c8-97227a43ac96",
   "metadata": {},
   "outputs": [
    {
     "ename": "ModuleNotFoundError",
     "evalue": "No module named 'gramian'",
     "output_type": "error",
     "traceback": [
      "\u001b[0;31m---------------------------------------------------------------------------\u001b[0m",
      "\u001b[0;31mModuleNotFoundError\u001b[0m                       Traceback (most recent call last)",
      "\u001b[0;32m/tmp/ipykernel_109439/4166746396.py\u001b[0m in \u001b[0;36m<module>\u001b[0;34m\u001b[0m\n\u001b[0;32m----> 1\u001b[0;31m \u001b[0;32mimport\u001b[0m \u001b[0mgramian\u001b[0m\u001b[0;34m.\u001b[0m\u001b[0mGramianAngularField\u001b[0m\u001b[0;34m\u001b[0m\u001b[0;34m\u001b[0m\u001b[0m\n\u001b[0m",
      "\u001b[0;31mModuleNotFoundError\u001b[0m: No module named 'gramian'"
     ]
    }
   ],
   "source": [
    "import srgramian.GramianAngularField"
   ]
  },
  {
   "cell_type": "code",
   "execution_count": 3,
   "id": "48dae7dd-5576-4c71-9702-41b04a93fcbc",
   "metadata": {},
   "outputs": [
    {
     "name": "stdout",
     "output_type": "stream",
     "text": [
      "'Experimentos (II).ipynb'    combi03\t    gasf.py\t     seno\n",
      " Experimentos.ipynb\t     degree01.jpg   hvg.py\t     seno.jpg\n",
      " GAF-VG.ipynb\t\t     degree04.jpg   lengh_path.jpg   seno.png\n",
      " GAFLibrary.py\t\t     degree07.jpg   mkt.py\t     seno_dist.jpg\n",
      " GraphConversionLibrary.py   degree08.jpg   pruebas.py\t     utils.py\n",
      " PruebasLibrerias.ipynb      degree12.jpg   ruido\t     vg.py\n",
      " __pycache__\t\t     distb.jpg\t    ruido.bat\n",
      " combi\t\t\t     gadf.py\t    ruido.bin\n"
     ]
    }
   ],
   "source": [
    "!ls"
   ]
  },
  {
   "cell_type": "code",
   "execution_count": null,
   "id": "3eea3849-5f15-4a32-986c-49b456a5d195",
   "metadata": {},
   "outputs": [],
   "source": []
  }
 ],
 "metadata": {
  "kernelspec": {
   "display_name": "Python 3 (ipykernel)",
   "language": "python",
   "name": "python3"
  },
  "language_info": {
   "codemirror_mode": {
    "name": "ipython",
    "version": 3
   },
   "file_extension": ".py",
   "mimetype": "text/x-python",
   "name": "python",
   "nbconvert_exporter": "python",
   "pygments_lexer": "ipython3",
   "version": "3.10.12"
  }
 },
 "nbformat": 4,
 "nbformat_minor": 5
}
